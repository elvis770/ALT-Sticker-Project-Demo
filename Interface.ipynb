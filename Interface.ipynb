{
 "cells": [
  {
   "cell_type": "code",
   "execution_count": 1,
   "metadata": {},
   "outputs": [
    {
     "name": "stdout",
     "output_type": "stream",
     "text": [
      " * Serving Flask app '__main__'\n",
      " * Debug mode: off\n"
     ]
    },
    {
     "name": "stderr",
     "output_type": "stream",
     "text": [
      "WARNING: This is a development server. Do not use it in a production deployment. Use a production WSGI server instead.\n",
      " * Running on http://127.0.0.1:62623\n",
      "Press CTRL+C to quit\n"
     ]
    }
   ],
   "source": [
    "from flask import Flask, request, jsonify\n",
    "from flask_cors import CORS\n",
    "import joblib\n",
    "import numpy as np\n",
    "\n",
    "# Initialize Flask app\n",
    "app = Flask(__name__)\n",
    "CORS(app)  # Enable Cross-Origin Resource Sharing\n",
    "\n",
    "# Load trained model and scaler\n",
    "model = joblib.load('random_forest_model.pkl')  # Update path if needed\n",
    "scaler = joblib.load('scaler.pkl')  # Update path if needed\n",
    "\n",
    "@app.route('/predict', methods=['POST'])\n",
    "def predict():\n",
    "    try:\n",
    "        # Receive and parse JSON data\n",
    "        data = request.get_json()\n",
    "        \n",
    "        # Extract features from the input data\n",
    "        features = np.array([\n",
    "            [\n",
    "                float(data['stress']),\n",
    "                float(data['systolic']),\n",
    "                float(data['diastolic']),\n",
    "                float(data['heartRate']),\n",
    "                float(data['age'])\n",
    "            ]\n",
    "        ])\n",
    "        \n",
    "        # Scale the features\n",
    "        features_scaled = scaler.transform(features)\n",
    "        \n",
    "        # Make the prediction\n",
    "        prediction = model.predict(features_scaled)\n",
    "        print(\"Raw prediction:\", prediction)\n",
    "        \n",
    "        # Convert prediction to activity level\n",
    "        prediction_value = int(round(prediction[0]))  # Or use prediction[0][0] for 2D output\n",
    "        activity_levels = {0: 'Low Activity Level', 1: 'Good Activity Level', 2: 'High Activity Level'}\n",
    "        activity_level = activity_levels.get(prediction_value, 'Unknown Activity Level')\n",
    "\n",
    "        # Return the result\n",
    "        return jsonify({'prediction': activity_level})\n",
    "\n",
    "    except Exception as e:\n",
    "        return jsonify({'error': str(e)}), 500\n",
    "    \n",
    "if __name__ == '__main__':\n",
    "    app.run(port=0)"
   ]
  },
  {
   "cell_type": "code",
   "execution_count": 1,
   "metadata": {},
   "outputs": [
    {
     "name": "stdout",
     "output_type": "stream",
     "text": [
      " * Serving Flask app '__main__'\n",
      " * Debug mode: off\n"
     ]
    },
    {
     "name": "stderr",
     "output_type": "stream",
     "text": [
      "WARNING: This is a development server. Do not use it in a production deployment. Use a production WSGI server instead.\n",
      " * Running on http://127.0.0.1:52700\n",
      "Press CTRL+C to quit\n",
      "127.0.0.1 - - [05/Dec/2024 14:55:16] \"OPTIONS /predict HTTP/1.1\" 200 -\n",
      "/Users/elvisechefu/anaconda3/anaconda3/lib/python3.11/site-packages/sklearn/base.py:464: UserWarning: X does not have valid feature names, but StandardScaler was fitted with feature names\n",
      "  warnings.warn(\n",
      "127.0.0.1 - - [05/Dec/2024 14:55:16] \"POST /predict HTTP/1.1\" 200 -\n",
      "127.0.0.1 - - [05/Dec/2024 14:55:59] \"OPTIONS /predict HTTP/1.1\" 200 -\n",
      "/Users/elvisechefu/anaconda3/anaconda3/lib/python3.11/site-packages/sklearn/base.py:464: UserWarning: X does not have valid feature names, but StandardScaler was fitted with feature names\n",
      "  warnings.warn(\n",
      "127.0.0.1 - - [05/Dec/2024 14:55:59] \"POST /predict HTTP/1.1\" 200 -\n"
     ]
    }
   ],
   "source": [
    "from flask import Flask, request, jsonify\n",
    "from flask_cors import CORS\n",
    "import joblib\n",
    "import numpy as np\n",
    "\n",
    "# Initialize Flask app\n",
    "app = Flask(__name__)\n",
    "CORS(app)  # Enable Cross-Origin Resource Sharing\n",
    "\n",
    "# Load trained model and scaler\n",
    "model = joblib.load('random_forest_model_2.pkl')  # Make sure the model file is saved correctly\n",
    "scaler = joblib.load('scaler_3.pkl')  # Make sure the scaler file is saved correctly\n",
    "\n",
    "@app.route('/predict', methods=['POST'])\n",
    "def predict():\n",
    "    try:\n",
    "        # Receive and parse JSON data\n",
    "        data = request.get_json()\n",
    "\n",
    "        # Extract features from the input data\n",
    "        features = np.array([\n",
    "            [\n",
    "                float(data['stress']),\n",
    "                float(data['systolic']),\n",
    "                float(data['diastolic'])\n",
    "            ]\n",
    "        ])\n",
    "        \n",
    "        # Scale the features using the saved scaler\n",
    "        features_scaled = scaler.transform(features)\n",
    "        \n",
    "        # Make the prediction\n",
    "        prediction = model.predict(features_scaled)\n",
    "        \n",
    "        # Map the prediction to activity level\n",
    "        activity_levels = {0: 'Low Activity Level', 1: 'Good Activity Level', 2: 'High Activity Level'}\n",
    "        activity_level = activity_levels.get(prediction[0], 'Unknown Activity Level')\n",
    "\n",
    "        # Return the result as JSON\n",
    "        return jsonify({'prediction': activity_level})\n",
    "\n",
    "    except Exception as e:\n",
    "        return jsonify({'error': str(e)}), 500\n",
    "\n",
    "if __name__ == '__main__':\n",
    "    app.run(port=0)"
   ]
  }
 ],
 "metadata": {
  "kernelspec": {
   "display_name": "Python 3",
   "language": "python",
   "name": "python3"
  },
  "language_info": {
   "codemirror_mode": {
    "name": "ipython",
    "version": 3
   },
   "file_extension": ".py",
   "mimetype": "text/x-python",
   "name": "python",
   "nbconvert_exporter": "python",
   "pygments_lexer": "ipython3",
   "version": "3.11.0"
  },
  "orig_nbformat": 4
 },
 "nbformat": 4,
 "nbformat_minor": 2
}
