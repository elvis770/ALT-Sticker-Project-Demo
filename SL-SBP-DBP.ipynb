{
 "cells": [
  {
   "cell_type": "code",
   "execution_count": 35,
   "metadata": {},
   "outputs": [
    {
     "name": "stdout",
     "output_type": "stream",
     "text": [
      "Person ID                    0\n",
      "Gender                       0\n",
      "Age                          0\n",
      "Occupation                   0\n",
      "Sleep Duration               0\n",
      "Quality of Sleep             0\n",
      "Physical Activity Level      0\n",
      "Stress Level                 0\n",
      "BMI Category                 0\n",
      "Blood Pressure               0\n",
      "Heart Rate                   0\n",
      "Daily Steps                  0\n",
      "Sleep Disorder             219\n",
      "dtype: int64\n",
      "   Physical Activity Level Activity Level\n",
      "0                       42           Good\n",
      "1                       60           Good\n",
      "2                       60           Good\n",
      "3                       30            Low\n",
      "4                       30            Low\n"
     ]
    }
   ],
   "source": [
    "import pandas as pd\n",
    "\n",
    "# Load the dataset\n",
    "df = pd.read_csv(\"Sleep_health_and_lifestyle_dataset.csv\")\n",
    "\n",
    "# Check for initial NaN values\n",
    "print(df.isnull().sum())\n",
    "\n",
    "# Define the mapping function for three activity levels\n",
    "def label_activity(row):\n",
    "    if row['Physical Activity Level'] <= 30:\n",
    "        return 'Low'\n",
    "    elif 30 < row['Physical Activity Level'] <= 60:\n",
    "        return 'Good'\n",
    "    else:\n",
    "        return 'High'\n",
    "\n",
    "# Apply the custom labeling function\n",
    "df['Activity Level'] = df.apply(label_activity, axis=1)\n",
    "\n",
    "# Verify the mapping\n",
    "print(df[['Physical Activity Level', 'Activity Level']].head())"
   ]
  },
  {
   "cell_type": "code",
   "execution_count": 36,
   "metadata": {},
   "outputs": [
    {
     "data": {
      "text/html": [
       "<div>\n",
       "<style scoped>\n",
       "    .dataframe tbody tr th:only-of-type {\n",
       "        vertical-align: middle;\n",
       "    }\n",
       "\n",
       "    .dataframe tbody tr th {\n",
       "        vertical-align: top;\n",
       "    }\n",
       "\n",
       "    .dataframe thead th {\n",
       "        text-align: right;\n",
       "    }\n",
       "</style>\n",
       "<table border=\"1\" class=\"dataframe\">\n",
       "  <thead>\n",
       "    <tr style=\"text-align: right;\">\n",
       "      <th></th>\n",
       "      <th>Age</th>\n",
       "      <th>Physical Activity Level</th>\n",
       "      <th>Stress Level</th>\n",
       "      <th>Blood Pressure</th>\n",
       "      <th>Heart Rate</th>\n",
       "      <th>Activity Level</th>\n",
       "    </tr>\n",
       "  </thead>\n",
       "  <tbody>\n",
       "    <tr>\n",
       "      <th>0</th>\n",
       "      <td>27</td>\n",
       "      <td>42</td>\n",
       "      <td>6</td>\n",
       "      <td>126/83</td>\n",
       "      <td>77</td>\n",
       "      <td>Good</td>\n",
       "    </tr>\n",
       "    <tr>\n",
       "      <th>1</th>\n",
       "      <td>28</td>\n",
       "      <td>60</td>\n",
       "      <td>8</td>\n",
       "      <td>125/80</td>\n",
       "      <td>75</td>\n",
       "      <td>Good</td>\n",
       "    </tr>\n",
       "    <tr>\n",
       "      <th>2</th>\n",
       "      <td>28</td>\n",
       "      <td>60</td>\n",
       "      <td>8</td>\n",
       "      <td>125/80</td>\n",
       "      <td>75</td>\n",
       "      <td>Good</td>\n",
       "    </tr>\n",
       "    <tr>\n",
       "      <th>3</th>\n",
       "      <td>28</td>\n",
       "      <td>30</td>\n",
       "      <td>8</td>\n",
       "      <td>140/90</td>\n",
       "      <td>85</td>\n",
       "      <td>Low</td>\n",
       "    </tr>\n",
       "    <tr>\n",
       "      <th>4</th>\n",
       "      <td>28</td>\n",
       "      <td>30</td>\n",
       "      <td>8</td>\n",
       "      <td>140/90</td>\n",
       "      <td>85</td>\n",
       "      <td>Low</td>\n",
       "    </tr>\n",
       "  </tbody>\n",
       "</table>\n",
       "</div>"
      ],
      "text/plain": [
       "   Age  Physical Activity Level  Stress Level Blood Pressure  Heart Rate  \\\n",
       "0   27                       42             6         126/83          77   \n",
       "1   28                       60             8         125/80          75   \n",
       "2   28                       60             8         125/80          75   \n",
       "3   28                       30             8         140/90          85   \n",
       "4   28                       30             8         140/90          85   \n",
       "\n",
       "  Activity Level  \n",
       "0           Good  \n",
       "1           Good  \n",
       "2           Good  \n",
       "3            Low  \n",
       "4            Low  "
      ]
     },
     "execution_count": 36,
     "metadata": {},
     "output_type": "execute_result"
    }
   ],
   "source": [
    "df.drop_duplicates()\n",
    "\n",
    "# List of columns to drop\n",
    "columns_to_drop = [\"Occupation\", \"Sleep Duration\", \"Quality of Sleep\", \"BMI Category\", \"Daily Steps\", \"Sleep Disorder\", \"Person ID\", \"Gender\"]\n",
    "\n",
    "# Drop the columns from the DataFrame\n",
    "df = df.drop(columns=columns_to_drop)\n",
    "\n",
    "# Display the first few rows to confirm changes\n",
    "df.head()"
   ]
  },
  {
   "cell_type": "code",
   "execution_count": 37,
   "metadata": {},
   "outputs": [
    {
     "name": "stdout",
     "output_type": "stream",
     "text": [
      "Blood Pressure column fixed. Here's a preview:\n",
      "   Age  Physical Activity Level  Stress Level  Heart Rate Activity Level  \\\n",
      "0   27                       42             6          77           Good   \n",
      "1   28                       60             8          75           Good   \n",
      "2   28                       60             8          75           Good   \n",
      "3   28                       30             8          85            Low   \n",
      "4   28                       30             8          85            Low   \n",
      "\n",
      "   Systolic BP  Diastolic BP  \n",
      "0          126            83  \n",
      "1          125            80  \n",
      "2          125            80  \n",
      "3          140            90  \n",
      "4          140            90  \n"
     ]
    }
   ],
   "source": [
    "# Split the \"Blood Pressure\" column into two separate columns\n",
    "df[['Systolic BP', 'Diastolic BP']] = df['Blood Pressure'].str.split('/', expand=True)\n",
    "\n",
    "# Convert the new columns to numeric values\n",
    "df['Systolic BP'] = pd.to_numeric(df['Systolic BP'])\n",
    "df['Diastolic BP'] = pd.to_numeric(df['Diastolic BP'])\n",
    "\n",
    "# Drop the original \"Blood Pressure\" column\n",
    "df = df.drop(columns=['Blood Pressure'])\n",
    "\n",
    "print(\"Blood Pressure column fixed. Here's a preview:\")\n",
    "print(df.head())"
   ]
  },
  {
   "cell_type": "code",
   "execution_count": 38,
   "metadata": {},
   "outputs": [
    {
     "name": "stdout",
     "output_type": "stream",
     "text": [
      "Normalized/Scaled features:\n",
      "   Stress Level  Systolic BP  Diastolic BP  Heart Rate      Age\n",
      "0           0.6     0.407407          0.40    0.571429  0.00000\n",
      "1           1.0     0.370370          0.25    0.476190  0.03125\n",
      "2           1.0     0.370370          0.25    0.476190  0.03125\n",
      "3           1.0     0.925926          0.75    0.952381  0.03125\n",
      "4           1.0     0.925926          0.75    0.952381  0.03125\n"
     ]
    }
   ],
   "source": [
    "from sklearn.preprocessing import MinMaxScaler\n",
    "\n",
    "# Select the features to scale\n",
    "features = [\"Stress Level\", \"Systolic BP\", \"Diastolic BP\", \"Heart Rate\", \"Age\"]\n",
    "X = df[features]  # Extract features\n",
    "y = df[\"Activity Level\"]  # Extract target variable\n",
    "\n",
    "# Initialize the MinMaxScaler\n",
    "scaler = MinMaxScaler()\n",
    "\n",
    "# Scale the features\n",
    "X_scaled = scaler.fit_transform(X)\n",
    "\n",
    "# Convert scaled data back to a DataFrame (optional, for easier inspection)\n",
    "X_scaled_df = pd.DataFrame(X_scaled, columns=features)\n",
    "\n",
    "print(\"Normalized/Scaled features:\")\n",
    "print(X_scaled_df.head())"
   ]
  },
  {
   "cell_type": "code",
   "execution_count": 39,
   "metadata": {},
   "outputs": [
    {
     "data": {
      "text/html": [
       "<div>\n",
       "<style scoped>\n",
       "    .dataframe tbody tr th:only-of-type {\n",
       "        vertical-align: middle;\n",
       "    }\n",
       "\n",
       "    .dataframe tbody tr th {\n",
       "        vertical-align: top;\n",
       "    }\n",
       "\n",
       "    .dataframe thead th {\n",
       "        text-align: right;\n",
       "    }\n",
       "</style>\n",
       "<table border=\"1\" class=\"dataframe\">\n",
       "  <thead>\n",
       "    <tr style=\"text-align: right;\">\n",
       "      <th></th>\n",
       "      <th>Age</th>\n",
       "      <th>Physical Activity Level</th>\n",
       "      <th>Stress Level</th>\n",
       "      <th>Heart Rate</th>\n",
       "      <th>Activity Level</th>\n",
       "      <th>Systolic BP</th>\n",
       "      <th>Diastolic BP</th>\n",
       "    </tr>\n",
       "  </thead>\n",
       "  <tbody>\n",
       "    <tr>\n",
       "      <th>0</th>\n",
       "      <td>27</td>\n",
       "      <td>42</td>\n",
       "      <td>6</td>\n",
       "      <td>77</td>\n",
       "      <td>Good</td>\n",
       "      <td>126</td>\n",
       "      <td>83</td>\n",
       "    </tr>\n",
       "    <tr>\n",
       "      <th>1</th>\n",
       "      <td>28</td>\n",
       "      <td>60</td>\n",
       "      <td>8</td>\n",
       "      <td>75</td>\n",
       "      <td>Good</td>\n",
       "      <td>125</td>\n",
       "      <td>80</td>\n",
       "    </tr>\n",
       "    <tr>\n",
       "      <th>2</th>\n",
       "      <td>28</td>\n",
       "      <td>60</td>\n",
       "      <td>8</td>\n",
       "      <td>75</td>\n",
       "      <td>Good</td>\n",
       "      <td>125</td>\n",
       "      <td>80</td>\n",
       "    </tr>\n",
       "    <tr>\n",
       "      <th>3</th>\n",
       "      <td>28</td>\n",
       "      <td>30</td>\n",
       "      <td>8</td>\n",
       "      <td>85</td>\n",
       "      <td>Low</td>\n",
       "      <td>140</td>\n",
       "      <td>90</td>\n",
       "    </tr>\n",
       "    <tr>\n",
       "      <th>4</th>\n",
       "      <td>28</td>\n",
       "      <td>30</td>\n",
       "      <td>8</td>\n",
       "      <td>85</td>\n",
       "      <td>Low</td>\n",
       "      <td>140</td>\n",
       "      <td>90</td>\n",
       "    </tr>\n",
       "  </tbody>\n",
       "</table>\n",
       "</div>"
      ],
      "text/plain": [
       "   Age  Physical Activity Level  Stress Level  Heart Rate Activity Level  \\\n",
       "0   27                       42             6          77           Good   \n",
       "1   28                       60             8          75           Good   \n",
       "2   28                       60             8          75           Good   \n",
       "3   28                       30             8          85            Low   \n",
       "4   28                       30             8          85            Low   \n",
       "\n",
       "   Systolic BP  Diastolic BP  \n",
       "0          126            83  \n",
       "1          125            80  \n",
       "2          125            80  \n",
       "3          140            90  \n",
       "4          140            90  "
      ]
     },
     "execution_count": 39,
     "metadata": {},
     "output_type": "execute_result"
    }
   ],
   "source": [
    "df.head()"
   ]
  },
  {
   "cell_type": "code",
   "execution_count": 40,
   "metadata": {},
   "outputs": [
    {
     "name": "stdout",
     "output_type": "stream",
     "text": [
      "   Physical Activity Level  Activity Level\n",
      "0                       42               1\n",
      "1                       60               1\n",
      "2                       60               1\n",
      "3                       30               0\n",
      "4                       30               0\n"
     ]
    }
   ],
   "source": [
    "# Define the mapping for 'Activity Level'\n",
    "activity_map = {\n",
    "    'Low': 0,   # Low Activity is mapped to 0\n",
    "    'Good': 1,  # Good Activity is mapped to 1\n",
    "    'High': 2   # High Activity is mapped to 2\n",
    "}\n",
    "\n",
    "# Apply the mapping to the 'Activity Level' column\n",
    "df['Activity Level'] = df['Activity Level'].map(activity_map)\n",
    "\n",
    "# Check the mapping is applied correctly\n",
    "print(df[['Physical Activity Level', 'Activity Level']].head())"
   ]
  },
  {
   "cell_type": "code",
   "execution_count": 41,
   "metadata": {},
   "outputs": [
    {
     "data": {
      "text/plain": [
       "Activity Level\n",
       "1    163\n",
       "2    143\n",
       "0     68\n",
       "Name: count, dtype: int64"
      ]
     },
     "execution_count": 41,
     "metadata": {},
     "output_type": "execute_result"
    }
   ],
   "source": [
    "# Check the distribution of activity levels\n",
    "df['Activity Level'].value_counts()"
   ]
  },
  {
   "cell_type": "code",
   "execution_count": 47,
   "metadata": {},
   "outputs": [
    {
     "name": "stdout",
     "output_type": "stream",
     "text": [
      "Model Accuracy: 0.8933333333333333\n"
     ]
    },
    {
     "data": {
      "text/plain": [
       "['random_forest_model_2.pkl']"
      ]
     },
     "execution_count": 47,
     "metadata": {},
     "output_type": "execute_result"
    }
   ],
   "source": [
    "from sklearn.model_selection import train_test_split\n",
    "from sklearn.preprocessing import StandardScaler\n",
    "from sklearn.ensemble import RandomForestClassifier\n",
    "from sklearn.metrics import accuracy_score\n",
    "import joblib\n",
    "\n",
    "# Select features and target variable\n",
    "features = df[[\"Stress Level\", \"Systolic BP\", \"Diastolic BP\"]]  # Features\n",
    "labels = df[\"Activity Level\"]  # Numeric labels (0, 1, 2)\n",
    "\n",
    "# Split the data into training and testing sets\n",
    "X_train, X_test, y_train, y_test = train_test_split(features, labels, test_size=0.2, random_state=42)\n",
    "\n",
    "# Scale the features using StandardScaler\n",
    "scaler = StandardScaler()\n",
    "X_train_scaled = scaler.fit_transform(X_train)\n",
    "X_test_scaled = scaler.transform(X_test)\n",
    "\n",
    "# Save the scaler for later use in Flask\n",
    "joblib.dump(scaler, 'scaler_3.pkl')\n",
    "\n",
    "# Assign weights to classes (higher weights for minority classes)\n",
    "class_weights = {0: 2, 1: 1, 2: 1}  # Adjust weights as needed\n",
    "\n",
    "# Train the Random Forest model with class weights\n",
    "rf_model = RandomForestClassifier(n_estimators=100, random_state=42, class_weight=class_weights)\n",
    "rf_model.fit(X_train_scaled, y_train)\n",
    "\n",
    "# Evaluate the model\n",
    "y_pred = rf_model.predict(X_test_scaled)\n",
    "accuracy = accuracy_score(y_test, y_pred)\n",
    "print(f\"Model Accuracy: {accuracy}\")\n",
    "\n",
    "# Save the model for later use in Flask\n",
    "joblib.dump(rf_model, 'random_forest_model_2.pkl')"
   ]
  },
  {
   "cell_type": "code",
   "execution_count": 48,
   "metadata": {},
   "outputs": [],
   "source": [
    "# from sklearn.model_selection import train_test_split\n",
    "# from sklearn.preprocessing import StandardScaler\n",
    "# from sklearn.ensemble import RandomForestClassifier\n",
    "# from sklearn.metrics import accuracy_score\n",
    "# import joblib\n",
    "\n",
    "# # Map the activity levels to \"Good\", \"Low\", and \"High\" if not already done\n",
    "# activity_map = {\n",
    "#     'Low': 'Low Activity Level',\n",
    "#     'Good': 'Good Activity Level',\n",
    "#     'High': 'High Activity Level'\n",
    "# }\n",
    "\n",
    "# df['Activity Level'] = df['Activity Level'].map(activity_map)\n",
    "\n",
    "# # Select the relevant features: Stress Level and Blood Pressure (Systolic and Diastolic)\n",
    "# features = df[['Stress Level', 'Systolic BP', 'Diastolic BP']]  # Use only Stress Level and BP\n",
    "# labels = df['Activity Level']  # Labels are still 'Low', 'Good', 'High'\n",
    "\n",
    "# # Convert labels to numeric: 'Low Activity Level' = 0, 'Good Activity Level' = 1, 'High Activity Level' = 2\n",
    "# label_map = {'Low Activity Level': 0, 'Good Activity Level': 1, 'High Activity Level': 2}\n",
    "# df['Activity Level'] = df['Activity Level'].map(label_map)\n",
    "# labels = df['Activity Level']\n",
    "\n",
    "# # Split the data into training and testing sets\n",
    "# X_train, X_test, y_train, y_test = train_test_split(features, labels, test_size=0.2, random_state=42)\n",
    "\n",
    "# # Scale the features using StandardScaler\n",
    "# scaler = StandardScaler()\n",
    "# X_train_scaled = scaler.fit_transform(X_train)\n",
    "# X_test_scaled = scaler.transform(X_test)\n",
    "\n",
    "# # Save the scaler for later use in Flask\n",
    "# joblib.dump(scaler, 'scaler.pkl')\n",
    "\n",
    "# # Train the Random Forest model\n",
    "# rf_model = RandomForestClassifier(n_estimators=100, random_state=42)\n",
    "# rf_model.fit(X_train_scaled, y_train)\n",
    "\n",
    "# # Evaluate the model\n",
    "# y_pred = rf_model.predict(X_test_scaled)\n",
    "# accuracy = accuracy_score(y_test, y_pred)\n",
    "# print(f\"Model Accuracy: {accuracy}\")\n",
    "\n",
    "# # Classification report for evaluation\n",
    "# from sklearn.metrics import classification_report\n",
    "# print(\"Classification Report:\\n\", classification_report(y_test, y_pred))\n",
    "\n",
    "# # Save the model for later use\n",
    "# joblib.dump(rf_model, 'activity_level_model.pkl')"
   ]
  },
  {
   "cell_type": "code",
   "execution_count": 49,
   "metadata": {},
   "outputs": [
    {
     "name": "stdout",
     "output_type": "stream",
     "text": [
      "Predicted Activity Level: Good Activity Level\n"
     ]
    }
   ],
   "source": [
    "import pandas as pd\n",
    "\n",
    "# Regular test data (randomly chosen)\n",
    "test_data = pd.DataFrame({\n",
    "    'Stress Level': [45],        # Moderate stress level\n",
    "    'Systolic BP': [130],        # Normal systolic BP\n",
    "    'Diastolic BP': [85]                 # Mid-age person (likely moderate activity)\n",
    "})\n",
    "\n",
    "# Scale the test data using the scaler\n",
    "test_data_scaled = scaler.transform(test_data)\n",
    "\n",
    "# Predict activity level for the test data\n",
    "predicted_activity_level = rf_model.predict(test_data_scaled)\n",
    "\n",
    "# Map the prediction back to its corresponding label\n",
    "activity_level_map = {0: 'Low Activity Level', 1: 'Good Activity Level', 2: 'High Activity Level'}\n",
    "predicted_label = activity_level_map[predicted_activity_level[0]]\n",
    "\n",
    "print(f\"Predicted Activity Level: {predicted_label}\")"
   ]
  },
  {
   "cell_type": "code",
   "execution_count": 50,
   "metadata": {},
   "outputs": [
    {
     "name": "stdout",
     "output_type": "stream",
     "text": [
      "Predicted Activity Level: Low Activity Level\n"
     ]
    }
   ],
   "source": [
    "import pandas as pd\n",
    "\n",
    "# Test data representing high activity levels (high parameters)\n",
    "test_data_high = pd.DataFrame({\n",
    "    'Stress Level': [20],        # Low stress level (associated with high activity)\n",
    "    'Systolic BP': [120],        # Normal systolic BP\n",
    "    'Diastolic BP': [75]        # Normal diastolic BP                  # Younger age (associated with higher activity)\n",
    "})\n",
    "\n",
    "# Scale the test data using the scaler\n",
    "test_data_scaled = scaler.transform(test_data_high)\n",
    "\n",
    "# Predict activity level for the test data\n",
    "predicted_activity_level = rf_model.predict(test_data_scaled)\n",
    "\n",
    "# Map the prediction back to its corresponding label\n",
    "activity_level_map = {0: 'Low Activity Level', 1: 'Good Activity Level', 2: 'High Activity Level'}\n",
    "predicted_label = activity_level_map[predicted_activity_level[0]]\n",
    "\n",
    "print(f\"Predicted Activity Level: {predicted_label}\")"
   ]
  },
  {
   "cell_type": "code",
   "execution_count": 51,
   "metadata": {},
   "outputs": [
    {
     "name": "stdout",
     "output_type": "stream",
     "text": [
      "Activity Level\n",
      "1    163\n",
      "2    143\n",
      "0     68\n",
      "Name: count, dtype: int64\n"
     ]
    }
   ],
   "source": [
    "print(df['Activity Level'].value_counts())"
   ]
  }
 ],
 "metadata": {
  "kernelspec": {
   "display_name": "Python 3",
   "language": "python",
   "name": "python3"
  },
  "language_info": {
   "codemirror_mode": {
    "name": "ipython",
    "version": 3
   },
   "file_extension": ".py",
   "mimetype": "text/x-python",
   "name": "python",
   "nbconvert_exporter": "python",
   "pygments_lexer": "ipython3",
   "version": "3.11.5"
  },
  "orig_nbformat": 4
 },
 "nbformat": 4,
 "nbformat_minor": 2
}
